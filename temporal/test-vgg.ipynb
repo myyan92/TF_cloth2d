{
 "cells": [
  {
   "cell_type": "markdown",
   "metadata": {},
   "source": [
    "# Running VGG16 on 3D Rope Dataset"
   ]
  },
  {
   "cell_type": "markdown",
   "metadata": {},
   "source": [
    "This model attempts to classify if a depth image has an intersection or if it doesn't"
   ]
  },
  {
   "cell_type": "code",
   "execution_count": 1,
   "metadata": {},
   "outputs": [],
   "source": [
    "from PIL import Image\n",
    "import numpy as np\n",
    "import tensorflow as tf\n",
    "import pathlib\n",
    "import matplotlib.pyplot as plt"
   ]
  },
  {
   "cell_type": "code",
   "execution_count": 2,
   "metadata": {},
   "outputs": [
    {
     "name": "stdout",
     "output_type": "stream",
     "text": [
      "Using device:  /device:GPU:0\n",
      "GPU available? True\n"
     ]
    }
   ],
   "source": [
    "# Set up some global variables\n",
    "USE_GPU = True\n",
    "\n",
    "if USE_GPU:\n",
    "    device = '/device:GPU:0'\n",
    "else:\n",
    "    device = '/cpu:0'\n",
    "\n",
    "# Constant to control how often we print when training models\n",
    "print_every = 100\n",
    "\n",
    "print('Using device: ', device)\n",
    "print('GPU available?', tf.test.is_gpu_available())"
   ]
  },
  {
   "cell_type": "markdown",
   "metadata": {},
   "source": [
    "## Data Preparation"
   ]
  },
  {
   "cell_type": "code",
   "execution_count": 3,
   "metadata": {},
   "outputs": [],
   "source": [
    "train_ds = tf.data.TFRecordDataset(\"assets/non-temporal/train-3d.tfrec\")\n",
    "test_ds = tf.data.TFRecordDataset(\"assets/non-temporal/test-3d.tfrec\")\n",
    "val_ds = tf.data.TFRecordDataset(\"assets/non-temporal/val-3d.tfrec\")"
   ]
  },
  {
   "cell_type": "code",
   "execution_count": 4,
   "metadata": {},
   "outputs": [
    {
     "name": "stdout",
     "output_type": "stream",
     "text": [
      "<MapDataset shapes: {has_intersection: (), height: (), image_raw: (), intersect: (127,), position: (256,), width: ()}, types: {has_intersection: tf.int64, height: tf.int64, image_raw: tf.string, intersect: tf.int64, position: tf.float32, width: tf.int64}>\n"
     ]
    }
   ],
   "source": [
    "image_feature_description = {\n",
    "    'height'   : tf.io.FixedLenFeature([], tf.int64),\n",
    "    'width'    : tf.io.FixedLenFeature([], tf.int64),\n",
    "    'image_raw': tf.io.FixedLenFeature([], tf.string),\n",
    "    'position' : tf.io.FixedLenFeature([256], tf.float32),\n",
    "    'intersect': tf.io.FixedLenFeature([127], tf.int64),\n",
    "    'has_intersection' : tf.io.FixedLenFeature([], tf.int64)\n",
    "}\n",
    "\n",
    "def _parse_img_function(example_proto):\n",
    "    return tf.io.parse_single_example(example_proto, image_feature_description)\n",
    "\n",
    "train_pds = train_ds.map(_parse_img_function)\n",
    "print(repr(train_pds))"
   ]
  },
  {
   "cell_type": "code",
   "execution_count": 5,
   "metadata": {},
   "outputs": [
    {
     "name": "stdout",
     "output_type": "stream",
     "text": [
      "9000\n",
      "Training Intersections Percentage 0.374\n",
      "500\n",
      "Validation Intersections Percentage 0.402\n",
      "500\n",
      "Validation Intersections Percentage 0.36\n"
     ]
    },
    {
     "data": {
      "image/png": "[encoded data removed]",
      "text/plain": [
       "<Figure size 864x576 with 8 Axes>"
      ]
     },
     "metadata": {
      "needs_background": "light"
     },
     "output_type": "display_data"
    }
   ],
   "source": [
    "w = 4\n",
    "h = 2\n",
    "fig = plt.figure(figsize=(12, 8))\n",
    "\n",
    "\n",
    "for i, img_features in enumerate(train_pds.take(w * h)):\n",
    "    i += 1\n",
    "    img = tf.io.decode_raw(img_features['image_raw'], tf.uint8)\n",
    "    height = tf.cast(img_features['height'], tf.int32)\n",
    "    width = tf.cast(img_features['width'], tf.int32)\n",
    "    img = tf.reshape(img, tf.stack([width, height, 3]))\n",
    "    img = tf.cast(img, dtype=tf.float32)\n",
    "#     position = tf.reshape(img_features['position'], tf.constant([2,128]))\n",
    "#     position = tf.transpose(position)\n",
    "#     intersect = img_features['intersect'] + 1\n",
    "#     intersect = tf.one_hot(intersect, depth=3)\n",
    "#     has_intersection = img_features['has_intersection']\n",
    "#     print(has_intersection)\n",
    "\n",
    "    fig.add_subplot(h, w, i)\n",
    "    plt.imshow(img.numpy()/256)\n",
    "\n",
    "    \n",
    "train_total = 0\n",
    "intersections = 0\n",
    "for i, img_features in enumerate(train_pds):\n",
    "    train_total = i + 1\n",
    "    intersections += img_features['has_intersection'].numpy()\n",
    "    \n",
    "print(train_total)\n",
    "print(\"Training Intersections Percentage\", intersections/train_total)\n",
    "\n",
    "val_total = 0\n",
    "intersections = 0\n",
    "for i, img_features in enumerate(val_ds.map(_parse_img_function)):\n",
    "    val_total = i + 1\n",
    "    intersections += img_features['has_intersection'].numpy()\n",
    "    \n",
    "print(val_total)\n",
    "print(\"Validation Intersections Percentage\", intersections/val_total)\n",
    "\n",
    "test_total = 0\n",
    "intersections = 0\n",
    "for i, img_features in enumerate(test_ds.map(_parse_img_function)):\n",
    "    test_total = i + 1\n",
    "    intersections += img_features['has_intersection'].numpy()\n",
    "    \n",
    "print(test_total)\n",
    "print(\"Validation Intersections Percentage\", intersections/test_total)"
   ]
  },
  {
   "cell_type": "code",
   "execution_count": 6,
   "metadata": {},
   "outputs": [],
   "source": [
    "def _parse_img_function_for_only_intersect(example_proto):\n",
    "    out = tf.io.parse_single_example(example_proto, image_feature_description)\n",
    "    img = tf.io.decode_raw(out['image_raw'], tf.uint8)\n",
    "    height = tf.cast(out['height'], tf.int32)\n",
    "    width = tf.cast(out['width'], tf.int32)\n",
    "    img = tf.reshape(img, tf.stack([width, height, 3]))\n",
    "    img = tf.cast(img, dtype=tf.float32)\n",
    "    \n",
    "    has_intersection = tf.one_hot(tf.cast(out['has_intersection'], tf.uint8), 2)\n",
    "    \n",
    "    return img, has_intersection\n",
    "\n",
    "AUTOTUNE = tf.data.experimental.AUTOTUNE\n",
    "\n",
    "BATCH_SIZE = 20\n",
    "\n",
    "train = train_ds.map(_parse_img_function_for_only_intersect)\n",
    "train = train.shuffle(9000)\n",
    "train = train.batch(BATCH_SIZE).repeat()\n",
    "train = train.prefetch(buffer_size=AUTOTUNE)\n",
    "\n",
    "val = val_ds.map(_parse_img_function_for_only_intersect)\n",
    "val = val.batch(BATCH_SIZE)\n",
    "val = val.prefetch(buffer_size=AUTOTUNE)\n",
    "\n",
    "test = test_ds.map(_parse_img_function_for_only_intersect)\n",
    "test = test.batch(1)\n",
    "test = test.prefetch(buffer_size=AUTOTUNE)"
   ]
  },
  {
   "cell_type": "markdown",
   "metadata": {},
   "source": [
    "## Building a Model\n",
    "\n",
    "Below is a modified version of VGG 16. I use VGG 16 weights and have a few fully connected layers after to capture class probabilities."
   ]
  },
  {
   "cell_type": "code",
   "execution_count": 7,
   "metadata": {},
   "outputs": [],
   "source": [
    "weight_dict = np.load('vgg16_weights.npz')\n",
    "# print(weight_dict.files)"
   ]
  },
  {
   "cell_type": "code",
   "execution_count": 8,
   "metadata": {},
   "outputs": [],
   "source": [
    "VGG_MEAN = [103.939, 116.779, 123.68]\n",
    "\n",
    "class VGG16(tf.keras.Model):\n",
    "    def __init__(self, vgg16_npy_path, num_classes, load_weights=True):\n",
    "        super(VGG16, self).__init__()\n",
    "        \n",
    "        self.load_weight = load_weights\n",
    "        \n",
    "        if self.load_weight:\n",
    "            self.weight_data = np.load(vgg16_npy_path)\n",
    "            \n",
    "#             self.conv1_1 = self._build_conv_layer('conv1_1', 64)\n",
    "#             self.conv1_2 = self._build_conv_layer('conv1_2', 64)\n",
    "#             self.pool1 = tf.keras.layers.MaxPooling2D((2, 2), padding='same')\n",
    "            \n",
    "#             self.conv2_1 = self._build_conv_layer('conv2_1', 128)\n",
    "#             self.conv2_2 = self._build_conv_layer('conv2_2', 128)\n",
    "#             self.pool2 = tf.keras.layers.MaxPooling2D((2, 2), padding='same')\n",
    "            \n",
    "#             self.conv3_1 = self._build_conv_layer('conv3_1', 256)\n",
    "#             self.conv3_2 = self._build_conv_layer('conv3_2', 256)\n",
    "#             self.conv3_3 = self._build_conv_layer('conv3_3', 256)\n",
    "#             self.pool3 = tf.keras.layers.MaxPooling2D((2, 2), padding='same')\n",
    "\n",
    "#             self.conv4_1 = self._build_conv_layer('conv4_1', 512)\n",
    "#             self.conv4_2 = self._build_conv_layer('conv4_2', 512)\n",
    "#             self.conv4_3 = self._build_conv_layer('conv4_3', 512)\n",
    "#             self.pool4 = tf.keras.layers.MaxPooling2D((2, 2), padding='same')\n",
    "            \n",
    "#             self.conv5_1 = self._build_conv_layer('conv5_1', 512)\n",
    "#             self.conv5_2 = self._build_conv_layer('conv5_2', 512)\n",
    "#             self.conv5_3 = self._build_conv_layer('conv5_3', 512)\n",
    "#             self.pool5 = tf.keras.layers.MaxPooling2D((2, 2), padding='same')\n",
    "                        \n",
    "            self.conv6_1 = self._build_conv_layer('conv6_1', 64, load_weight=False, trainable=True, reg=tf.keras.regularizers.l2(1e-2))\n",
    "            self.bn6_1 = tf.keras.layers.BatchNormalization()\n",
    "            self.pool6_1 = tf.keras.layers.MaxPooling2D((2, 2), padding='same')\n",
    "#             self.drop6 = tf.keras.layers.Dropout(0.3)\n",
    "            self.conv6_2 = self._build_conv_layer('conv6_2', 128, load_weight=False, trainable=True, reg=tf.keras.regularizers.l2(1e-2))\n",
    "            self.bn6_2 = tf.keras.layers.BatchNormalization()\n",
    "            self.pool6_2 = tf.keras.layers.MaxPooling2D((2, 2), padding='same')\n",
    "            self.conv6_3 = self._build_conv_layer('conv6_3', 64, load_weight=False, trainable=True, reg=tf.keras.regularizers.l2(1e-2))\n",
    "            self.bn6_3 = tf.keras.layers.BatchNormalization()\n",
    "            self.pool6_3 = tf.keras.layers.MaxPooling2D((2, 2), padding='same')\n",
    "            \n",
    "            self.flatten = tf.keras.layers.Flatten()\n",
    "            \n",
    "            self.fc6 = self._build_dense_layer('fc6', 1024, tf.keras.activations.relu)\n",
    "            self.fc7 = self._build_dense_layer('fc7', 1024, tf.keras.activations.relu)\n",
    "            self.fc8 = self._build_dense_layer('fc8', 256, tf.keras.activations.relu)\n",
    "            self.fc9 = self._build_dense_layer('fc9', 256, tf.keras.activations.relu)\n",
    "            self.fc10 = self._build_dense_layer('fc10', num_classes, None)\n",
    "            \n",
    "#             self.fc8 = self.dense('fc8', 128, tf.keras.layers.ReLU)\n",
    "#             self.fc9 = self.denes('fc9', 128, tf.keras)\n",
    "\n",
    "    def call(self, x, training=False):\n",
    "        scores = None\n",
    "        \n",
    "#         print(x.shape)\n",
    "        x = tf.reverse(x, axis=[-1]) - tf.constant(VGG_MEAN)\n",
    "        x = x / 256.0\n",
    "\n",
    "#         x = self.conv1_1(x)\n",
    "#         x = self.conv1_2(x)\n",
    "#         x = self.pool1(x)\n",
    "#         x = self.conv2_1(x)\n",
    "#         x = self.conv2_2(x)\n",
    "#         x = self.pool2(x)\n",
    "#         x = self.conv3_1(x)\n",
    "#         x = self.conv3_2(x)\n",
    "#         x = self.pool3(x)\n",
    "#         x = self.conv4_1(x)\n",
    "#         x = self.conv4_2(x)\n",
    "#         x = self.conv4_3(x)\n",
    "#         x = self.pool4(x)\n",
    "#         x = self.conv5_1(x)\n",
    "#         x = self.conv5_2(x)\n",
    "#         x = self.conv5_3(x)\n",
    "#         x = self.pool5(x)\n",
    "#         print(x.shape)\n",
    "        x = self.conv6_1(x)\n",
    "#         print(x.shape)\n",
    "        x = self.bn6_1(x)\n",
    "#         print(x.shape)\n",
    "#         x = self.drop6(x)\n",
    "        x = self.pool6_1(x)\n",
    "        x = self.conv6_2(x)\n",
    "#         print(x.shape)\n",
    "        x = self.bn6_2(x)\n",
    "#         print(x.shape)\n",
    "        x = self.pool6_2(x)\n",
    "        x = self.conv6_3(x)\n",
    "#         print(x.shape)  \n",
    "        x = self.bn6_3(x)\n",
    "#         print(x.shape)\n",
    "        x = self.pool6_3(x)\n",
    "#         print(x.shape)\n",
    "        x = self.flatten(x)\n",
    "#         print(x.shape)        \n",
    "        x = self.fc6(x)\n",
    "        x = self.fc7(x)\n",
    "        x = self.fc8(x)\n",
    "        x = self.fc9(x)\n",
    "        scores = self.fc10(x)\n",
    "#         print(scores.shape)\n",
    "#         print(scores)\n",
    "        \n",
    "        return scores\n",
    "    \n",
    "    def _build_conv_layer(self, name, filters, load_weight=True, kernel=3, stride=(1, 1), trainable=False, reg=None):\n",
    "        if load_weight:\n",
    "            k_init = tf.constant_initializer(self.weight_data[name + '_W'])\n",
    "            b_init = tf.constant_initializer(self.weight_data[name + '_b'])\n",
    "        else:\n",
    "            k_init = tf.initializers.he_normal()\n",
    "            b_init = tf.initializers.zeros()\n",
    "        \n",
    "        conv = tf.keras.layers.Conv2D(filters=filters, kernel_size=kernel, strides=stride, padding='same',\n",
    "                                      activation=tf.keras.activations.relu, kernel_initializer=k_init, bias_initializer=b_init,\n",
    "                                      trainable=trainable, kernel_regularizer=reg)        \n",
    "        return conv\n",
    "        \n",
    "    \n",
    "    def _build_dense_layer(self, name, hidden_dim, activation, scale=1.0, load_weight=False, trainable=True):\n",
    "        if load_weight:\n",
    "            k_init = tf.constant_initializer(self.weight_data[name + '_W'])\n",
    "            b_init = tf.constant_initializer(self.weight_data[name + '_b'])\n",
    "        else:\n",
    "            k_init = tf.keras.initializers.he_normal()\n",
    "            b_init = tf.initializers.zeros()\n",
    "        \n",
    "        dense = tf.keras.layers.Dense(hidden_dim, activation=activation, kernel_initializer=k_init, \n",
    "                                      bias_initializer=b_init, trainable=trainable)\n",
    "        \n",
    "        return dense\n"
   ]
  },
  {
   "cell_type": "code",
   "execution_count": 9,
   "metadata": {},
   "outputs": [
    {
     "name": "stdout",
     "output_type": "stream",
     "text": [
      "/device:GPU:0\n",
      "(64, 2)\n"
     ]
    }
   ],
   "source": [
    "def test_vgg2016():\n",
    "    model = VGG16('vgg16_weights.npz', 2)\n",
    "    print(device)\n",
    "    with tf.device(device):\n",
    "        x = tf.random.uniform((64, 224, 224, 3))\n",
    "        scores = model(x)\n",
    "        print(scores.shape)\n",
    "#         print(scores)\n",
    "\n",
    "test_vgg2016()"
   ]
  },
  {
   "cell_type": "code",
   "execution_count": 10,
   "metadata": {},
   "outputs": [
    {
     "name": "stdout",
     "output_type": "stream",
     "text": [
      "Epoch 1/6\n",
      "  1/450 [..............................] - ETA: 1:20:32 - loss: 5.9261 - binary_crossentropy: 3.5961 - categorical_accuracy: 0.5000"
     ]
    },
    {
     "name": "stderr",
     "output_type": "stream",
     "text": [
      "WARNING: Logging before flag parsing goes to stderr.\n",
      "W0527 00:50:52.794524 139912594732800 callbacks.py:236] Method (on_train_batch_end) is slow compared to the batch update (0.116616). Check your callbacks.\n"
     ]
    },
    {
     "name": "stdout",
     "output_type": "stream",
     "text": [
      "449/450 [============================>.] - ETA: 0s - loss: 4.4371 - binary_crossentropy: 2.3514 - categorical_accuracy: 0.8208\n",
      "Epoch 00001: saving model to model-checkpoint/cp.ckpt\n",
      "450/450 [==============================] - 54s 121ms/step - loss: 4.4349 - binary_crossentropy: 2.3454 - categorical_accuracy: 0.8213 - val_loss: 4.7863 - val_binary_crossentropy: 6.6130 - val_categorical_accuracy: 0.5700\n",
      "Epoch 2/6\n",
      "449/450 [============================>.] - ETA: 0s - loss: 2.8219 - binary_crossentropy: 4.1516e-05 - categorical_accuracy: 1.0000\n",
      "Epoch 00002: saving model to model-checkpoint/cp.ckpt\n",
      "450/450 [==============================] - 49s 108ms/step - loss: 2.8207 - binary_crossentropy: 4.1921e-05 - categorical_accuracy: 1.0000 - val_loss: 3.0806 - val_binary_crossentropy: 3.3447 - val_categorical_accuracy: 0.7600\n",
      "Epoch 3/6\n",
      "449/450 [============================>.] - ETA: 0s - loss: 1.8854 - binary_crossentropy: 0.0000e+00 - categorical_accuracy: 1.0000\n",
      "Epoch 00003: saving model to model-checkpoint/cp.ckpt\n",
      "450/450 [==============================] - 48s 106ms/step - loss: 1.8846 - binary_crossentropy: 0.0000e+00 - categorical_accuracy: 1.0000 - val_loss: 6.7489 - val_binary_crossentropy: 8.7661 - val_categorical_accuracy: 0.4300\n",
      "Epoch 4/6\n",
      "449/450 [============================>.] - ETA: 0s - loss: 1.2834 - binary_crossentropy: 4.6643e-08 - categorical_accuracy: 1.0000\n",
      "Epoch 00004: saving model to model-checkpoint/cp.ckpt\n",
      "450/450 [==============================] - 48s 106ms/step - loss: 1.2829 - binary_crossentropy: 9.2717e-08 - categorical_accuracy: 1.0000 - val_loss: 8.0050 - val_binary_crossentropy: 8.7661 - val_categorical_accuracy: 0.4300\n",
      "Epoch 5/6\n",
      "449/450 [============================>.] - ETA: 0s - loss: 0.9871 - binary_crossentropy: 0.1464 - categorical_accuracy: 0.9899\n",
      "Epoch 00005: saving model to model-checkpoint/cp.ckpt\n",
      "450/450 [==============================] - 47s 105ms/step - loss: 0.9868 - binary_crossentropy: 0.1460 - categorical_accuracy: 0.9900 - val_loss: 0.8788 - val_binary_crossentropy: 0.0000e+00 - val_categorical_accuracy: 1.0000\n",
      "Epoch 6/6\n",
      "449/450 [============================>.] - ETA: 0s - loss: 0.8023 - binary_crossentropy: 0.0099 - categorical_accuracy: 0.9995\n",
      "Epoch 00006: saving model to model-checkpoint/cp.ckpt\n",
      "450/450 [==============================] - 48s 106ms/step - loss: 0.8021 - binary_crossentropy: 0.0099 - categorical_accuracy: 0.9995 - val_loss: 0.7262 - val_binary_crossentropy: 0.0000e+00 - val_categorical_accuracy: 1.0000\n",
      "\n",
      "history dict {'loss': [4.434878012869093, 2.820723132557339, 1.8846406801541646, 1.2828646296925015, 0.986848524014155, 0.8020862963464525], 'binary_crossentropy': [1.016014, 0.00013282249, 0.0, 1.0436413e-05, 0.050530784, 0.0042745178], 'categorical_accuracy': [0.92266667, 1.0, 1.0, 1.0, 0.99655557, 0.9997778], 'val_loss': [4.786302947998047, 3.08060884475708, 6.748947429656982, 8.004969215393066, 0.8787855863571167, 0.7262162566184998], 'val_binary_crossentropy': [6.6130104, 3.3446953, 8.766083, 8.766083, 0.0, 0.0], 'val_categorical_accuracy': [0.57, 0.76, 0.43, 0.43, 1.0, 1.0]}\n",
      "\n",
      "# Evaluate on test data\n",
      "    500/Unknown - 3s 6ms/step - loss: 0.7262 - binary_crossentropy: 0.0000e+00 - categorical_accuracy: 1.0000test loss, test acc: [0.7261901726722717, 0.0, 1.0]\n"
     ]
    }
   ],
   "source": [
    "model = VGG16('vgg16_weights.npz', 2)\n",
    "\n",
    "model.compile(#optimizer=tf.keras.optimizers.SGD(lr=0.0001, momentum=0.9, decay=0.0, nesterov=True),\n",
    "              optimizer=tf.keras.optimizers.Adam(lr=0.0001),\n",
    "              loss=tf.keras.losses.BinaryCrossentropy(from_logits=True),\n",
    "              metrics=[tf.keras.metrics.binary_crossentropy, tf.keras.metrics.categorical_accuracy])\n",
    "\n",
    "#     print(model.summary())\n",
    "\n",
    "cp_callback = tf.keras.callbacks.ModelCheckpoint('model-checkpoint/cp.ckpt',\n",
    "                                                 monitor='acc', \n",
    "                                                 verbose=1,\n",
    "                                                 mode='max')\n",
    "\n",
    "tb_callback = tf.keras.callbacks.TensorBoard(log_dir='./Graph', histogram_freq=0, \n",
    "                                             write_graph=True, write_images=True,\n",
    "                                             update_freq='batch')\n",
    "\n",
    "history = model.fit(\n",
    "                    train,\n",
    "                    steps_per_epoch=9000//BATCH_SIZE,\n",
    "                    epochs=6,\n",
    "                    verbose=1,\n",
    "                    validation_data=val,\n",
    "                    validation_steps=5,\n",
    "                    validation_freq=1,\n",
    "                    callbacks = [cp_callback, tb_callback]\n",
    "            )\n",
    "\n",
    "print('\\nhistory dict', history.history)\n",
    "\n",
    "print('\\n# Evaluate on test data')\n",
    "results = model.evaluate(test)\n",
    "print('test loss, test acc:', results)"
   ]
  },
  {
   "cell_type": "code",
   "execution_count": 11,
   "metadata": {},
   "outputs": [
    {
     "name": "stdout",
     "output_type": "stream",
     "text": [
      "Generate predictions for all samples\n"
     ]
    }
   ],
   "source": [
    "print('Generate predictions for all samples')\n",
    "\n",
    "# bce = tf.keras.losses.BinaryCrossentropy(from_logits=True)\n",
    "\n",
    "# the bool below corresponds to the real state\n",
    "correct_no_intersection = []\n",
    "correct_yes_intersection = []\n",
    "incorrect_no_intersection = []\n",
    "incorrect_yes_intersection = []\n",
    "\n",
    "for sample in test:\n",
    "    pred = model.predict(sample[0])\n",
    "    pred = tf.keras.activations.softmax(tf.convert_to_tensor(pred))\n",
    "    one_hot = tf.one_hot(tf.math.argmax(pred, axis=1), 2)\n",
    "    if np.array_equal(one_hot.numpy(), sample[1].numpy()):\n",
    "        if sample[1].numpy()[0][0] == 1:\n",
    "            correct_no_intersection.append(sample[0])\n",
    "        else:\n",
    "            correct_yes_intersection.append(sample[0])\n",
    "    else:\n",
    "        if sample[1].numpy()[0][0] == 1:\n",
    "            incorrect_no_intersection.append(sample[0])\n",
    "        else:\n",
    "            incorrect_yes_intersection.append(sample[0])\n"
   ]
  },
  {
   "cell_type": "code",
   "execution_count": 15,
   "metadata": {},
   "outputs": [
    {
     "data": {
      "image/png": "[encoded data removed]",
      "text/plain": [
       "<Figure size 864x576 with 6 Axes>"
      ]
     },
     "metadata": {
      "needs_background": "light"
     },
     "output_type": "display_data"
    },
    {
     "data": {
      "image/png": "[encoded data removed]",
      "text/plain": [
       "<Figure size 864x576 with 6 Axes>"
      ]
     },
     "metadata": {
      "needs_background": "light"
     },
     "output_type": "display_data"
    },
    {
     "data": {
      "text/plain": [
       "<Figure size 864x576 with 0 Axes>"
      ]
     },
     "metadata": {},
     "output_type": "display_data"
    },
    {
     "data": {
      "text/plain": [
       "<Figure size 864x576 with 0 Axes>"
      ]
     },
     "metadata": {},
     "output_type": "display_data"
    }
   ],
   "source": [
    "import random\n",
    "\n",
    "def plot_random_preds(preds, w, h, title, total):\n",
    "    if len(preds) >= w * h:\n",
    "        samples = random.sample(preds, w*h)\n",
    "    else:\n",
    "        samples = preds\n",
    "    \n",
    "    fig = plt.figure(figsize=(4 * w, 4 * h))\n",
    "    fig.suptitle(title + ' ({} of test set)'.format(len(preds)/total), fontsize=20)\n",
    "    for i, sample in enumerate(samples):\n",
    "        fig.add_subplot(h, w, i+1)\n",
    "#         print(sample.numpy().shape)\n",
    "        plt.imshow(sample.numpy()[0, :, :, 0]/256)\n",
    "    \n",
    "\n",
    "# print(len(correct_no_intersection))\n",
    "total = len(correct_no_intersection) + len(correct_yes_intersection) + len(incorrect_no_intersection) + len(incorrect_yes_intersection)\n",
    "plot_random_preds(correct_no_intersection, 3, 2, 'Correctly Classified No Intersections', total)\n",
    "plot_random_preds(correct_yes_intersection, 3, 2, 'Correctly Classified Intersections', total)\n",
    "plot_random_preds(incorrect_no_intersection, 3, 2, 'Incorrectly Classified No Intersections', total)\n",
    "plot_random_preds(incorrect_yes_intersection, 3, 2, 'Incorrectly Classified Intersections', total)\n",
    "# print(len(correct_no_intersection))"
   ]
  }
 ],
 "metadata": {
  "kernelspec": {
   "display_name": "Python 3",
   "language": "python",
   "name": "python3"
  },
  "language_info": {
   "codemirror_mode": {
    "name": "ipython",
    "version": 3
   },
   "file_extension": ".py",
   "mimetype": "text/x-python",
   "name": "python",
   "nbconvert_exporter": "python",
   "pygments_lexer": "ipython3",
   "version": "3.7.2"
  }
 },
 "nbformat": 4,
 "nbformat_minor": 2
}
