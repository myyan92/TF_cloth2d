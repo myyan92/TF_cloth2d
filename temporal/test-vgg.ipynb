{
 "cells": [
  {
   "cell_type": "markdown",
   "metadata": {},
   "source": [
    "# Running VGG16 on 3D Rope Dataset"
   ]
  },
  {
   "cell_type": "markdown",
   "metadata": {},
   "source": [
    "This model attempts to classify if a depth image has an intersection or if it doesn't"
   ]
  },
  {
   "cell_type": "code",
   "execution_count": 1,
   "metadata": {},
   "outputs": [],
   "source": [
    "from PIL import Image\n",
    "import numpy as np\n",
    "import tensorflow as tf\n",
    "import pathlib\n",
    "import matplotlib.pyplot as plt"
   ]
  },
  {
   "cell_type": "code",
   "execution_count": 2,
   "metadata": {},
   "outputs": [
    {
     "name": "stdout",
     "output_type": "stream",
     "text": [
      "Using device:  /device:GPU:0\n"
     ]
    },
    {
     "data": {
      "text/plain": [
       "True"
      ]
     },
     "execution_count": 2,
     "metadata": {},
     "output_type": "execute_result"
    }
   ],
   "source": [
    "# Set up some global variables\n",
    "USE_GPU = True\n",
    "\n",
    "if USE_GPU:\n",
    "    device = '/device:GPU:0'\n",
    "else:\n",
    "    device = '/cpu:0'\n",
    "\n",
    "# Constant to control how often we print when training models\n",
    "print_every = 100\n",
    "\n",
    "print('Using device: ', device)\n",
    "tf.test.is_gpu_available()"
   ]
  },
  {
   "cell_type": "markdown",
   "metadata": {},
   "source": [
    "## Data Preparation"
   ]
  },
  {
   "cell_type": "code",
   "execution_count": 3,
   "metadata": {},
   "outputs": [],
   "source": [
    "ds = tf.data.TFRecordDataset(\"assets/non-temporal-3d.tfrec\")"
   ]
  },
  {
   "cell_type": "code",
   "execution_count": 4,
   "metadata": {},
   "outputs": [
    {
     "name": "stdout",
     "output_type": "stream",
     "text": [
      "<MapDataset shapes: {has_intersection: (), height: (), image_raw: (), intersect: (127,), position: (256,), width: ()}, types: {has_intersection: tf.int64, height: tf.int64, image_raw: tf.string, intersect: tf.int64, position: tf.float32, width: tf.int64}>\n"
     ]
    }
   ],
   "source": [
    "image_feature_description = {\n",
    "    'height'   : tf.io.FixedLenFeature([], tf.int64),\n",
    "    'width'    : tf.io.FixedLenFeature([], tf.int64),\n",
    "    'image_raw': tf.io.FixedLenFeature([], tf.string),\n",
    "    'position' : tf.io.FixedLenFeature([256], tf.float32),\n",
    "    'intersect': tf.io.FixedLenFeature([127], tf.int64),\n",
    "    'has_intersection' : tf.io.FixedLenFeature([], tf.int64)\n",
    "}\n",
    "\n",
    "def _parse_img_function(example_proto):\n",
    "    return tf.io.parse_single_example(example_proto, image_feature_description)\n",
    "\n",
    "parsed_ds = ds.map(_parse_img_function)\n",
    "print(repr(parsed_ds))"
   ]
  },
  {
   "cell_type": "code",
   "execution_count": 5,
   "metadata": {},
   "outputs": [
    {
     "data": {
      "image/png": "[encoded data removed]",
      "text/plain": [
       "<Figure size 576x576 with 4 Axes>"
      ]
     },
     "metadata": {
      "needs_background": "light"
     },
     "output_type": "display_data"
    }
   ],
   "source": [
    "w = 2\n",
    "h = 2\n",
    "fig = plt.figure(figsize=(8, 8))\n",
    "\n",
    "for i, img_features in enumerate(parsed_ds.take(w * h)):\n",
    "    i += 1\n",
    "    img = tf.io.decode_raw(img_features['image_raw'], tf.uint8)\n",
    "    height = tf.cast(img_features['height'], tf.int32)\n",
    "    width = tf.cast(img_features['width'], tf.int32)\n",
    "    img = tf.reshape(img, tf.stack([width, height, 3]))\n",
    "    img = tf.cast(img, dtype=tf.float32)\n",
    "#     position = tf.reshape(img_features['position'], tf.constant([2,128]))\n",
    "#     position = tf.transpose(position)\n",
    "#     intersect = img_features['intersect'] + 1\n",
    "#     intersect = tf.one_hot(intersect, depth=3)\n",
    "#     has_intersection = img_features['has_intersection']\n",
    "#     print(has_intersection)\n",
    "\n",
    "    fig.add_subplot(h, w, i)\n",
    "    plt.imshow(img.numpy()/256)\n"
   ]
  },
  {
   "cell_type": "code",
   "execution_count": 6,
   "metadata": {},
   "outputs": [],
   "source": [
    "weight_dict = np.load('vgg16_weights.npz')\n",
    "# print(weight_dict.files)"
   ]
  },
  {
   "cell_type": "code",
   "execution_count": 7,
   "metadata": {},
   "outputs": [],
   "source": [
    "VGG_MEAN = [103.939, 116.779, 123.68]\n",
    "\n",
    "class VGG16(tf.keras.Model):\n",
    "    def __init__(self, vgg16_npy_path, num_classes, load_weights=True):\n",
    "        super(VGG16, self).__init__()\n",
    "        \n",
    "        self.load_weight = load_weights\n",
    "        \n",
    "        if self.load_weight:\n",
    "            self.weight_data = np.load(vgg16_npy_path)\n",
    "            \n",
    "            self.conv1_1 = self._build_conv_layer('conv1_1', 64)\n",
    "            self.conv1_2 = self._build_conv_layer('conv1_2', 64)\n",
    "            self.pool1 = tf.keras.layers.MaxPooling2D((2, 2), padding='same')\n",
    "            \n",
    "            self.conv2_1 = self._build_conv_layer('conv2_1', 128)\n",
    "            self.conv2_2 = self._build_conv_layer('conv2_2', 128)\n",
    "            self.pool2 = tf.keras.layers.MaxPooling2D((2, 2), padding='same')\n",
    "            \n",
    "            self.conv3_1 = self._build_conv_layer('conv3_1', 256)\n",
    "            self.conv3_2 = self._build_conv_layer('conv3_2', 256)\n",
    "            self.conv3_3 = self._build_conv_layer('conv3_3', 256)\n",
    "            self.pool3 = tf.keras.layers.MaxPooling2D((2, 2), padding='same')\n",
    "\n",
    "            self.conv4_1 = self._build_conv_layer('conv4_1', 512)\n",
    "            self.conv4_2 = self._build_conv_layer('conv4_2', 512)\n",
    "            self.conv4_3 = self._build_conv_layer('conv4_3', 512)\n",
    "            self.pool4 = tf.keras.layers.MaxPooling2D((2, 2), padding='same')\n",
    "            \n",
    "            self.conv5_1 = self._build_conv_layer('conv5_1', 512)\n",
    "            self.conv5_2 = self._build_conv_layer('conv5_2', 512)\n",
    "            self.conv5_3 = self._build_conv_layer('conv5_3', 512)\n",
    "            self.pool5 = tf.keras.layers.MaxPooling2D((2, 2), padding='same')\n",
    "            \n",
    "            self.flatten = tf.keras.layers.Flatten()\n",
    "            \n",
    "            self.fc6 = self._build_dense_layer('fc6', 1024, tf.keras.layers.ReLU())\n",
    "            self.fc7 = self._build_dense_layer('fc7', 1024, tf.keras.layers.ReLU())\n",
    "            self.fc8 = self._build_dense_layer('fc8', num_classes, None)\n",
    "            \n",
    "#             self.fc8 = self.dense('fc8', 128, tf.keras.layers.ReLU)\n",
    "#             self.fc9 = self.denes('fc9', 128, tf.keras)\n",
    "\n",
    "    def call(self, x, training=False):\n",
    "        scores = None\n",
    "        ########################################################################\n",
    "        # TODO: Implement the forward pass for a three-layer ConvNet. You      #\n",
    "        # should use the layer objects defined in the __init__ method.         #\n",
    "        ########################################################################\n",
    "        # *****START OF YOUR CODE (DO NOT DELETE/MODIFY THIS LINE)*****\n",
    "        \n",
    "        x = tf.reverse(x, axis=[-1]) - tf.constant(VGG_MEAN)\n",
    "        x = x / 256.0\n",
    "\n",
    "        x = self.conv1_1(x)\n",
    "        print(x.shape)\n",
    "        x = self.conv1_2(x)\n",
    "        print(x.shape)\n",
    "        x = self.pool1(x)\n",
    "        print(x.shape)\n",
    "        x = self.conv2_1(x)\n",
    "        print(x.shape)\n",
    "        x = self.conv2_2(x)\n",
    "        print(x.shape)\n",
    "        x = self.pool2(x)\n",
    "        print(x.shape)\n",
    "        x = self.conv3_1(x)\n",
    "        print(x.shape)\n",
    "        x = self.conv3_2(x)\n",
    "        print(x.shape)\n",
    "        x = self.pool3(x)\n",
    "        print(x.shape)\n",
    "        x = self.conv4_1(x)\n",
    "        print(x.shape)\n",
    "        x = self.conv4_2(x)\n",
    "        print(x.shape)\n",
    "        x = self.conv4_3(x)\n",
    "        print(x.shape)\n",
    "        x = self.pool4(x)\n",
    "        print(x.shape)\n",
    "        x = self.conv5_1(x)\n",
    "        print(x.shape)\n",
    "        x = self.conv5_2(x)\n",
    "        print(x.shape)\n",
    "        x = self.conv5_3(x)\n",
    "        print(x.shape)\n",
    "        x = self.pool5(x)\n",
    "        print(x.shape)\n",
    "        x = self.flatten(x)\n",
    "        print(x.shape)\n",
    "        x = self.fc6(x)\n",
    "        print(x.shape)\n",
    "        x = self.fc7(x)\n",
    "        print(x.shape)\n",
    "        scores = self.fc8(x)\n",
    "        \n",
    "        # *****END OF YOUR CODE (DO NOT DELETE/MODIFY THIS LINE)*****\n",
    "        ########################################################################\n",
    "        #                           END OF YOUR CODE                           #\n",
    "        ########################################################################        \n",
    "        return scores\n",
    "    \n",
    "    def _build_conv_layer(self, name, filters, kernel=3, stride=(1, 1), trainable=False):\n",
    "        if self.load_weight:\n",
    "            k_init = tf.constant_initializer(self.weight_data[name + '_W'])\n",
    "            b_init = tf.constant_initializer(self.weight_data[name + '_b'])\n",
    "        else:\n",
    "            k_init = tf.initializers.VarianceScaling(scale=2.0)\n",
    "            b_init = tf.initializers.zeros()\n",
    "        \n",
    "        conv = tf.keras.layers.Conv2D(filters=filters, kernel_size=kernel, strides=stride, padding='same',\n",
    "                                      activation=tf.keras.layers.ReLU(), kernel_initializer=k_init, bias_initializer=b_init,\n",
    "                                      trainable=trainable)\n",
    "        \n",
    "        return conv\n",
    "        \n",
    "    \n",
    "    def _build_dense_layer(self, name, hidden_dim, activation, scale=1.0, load_weight=False, trainable=True):\n",
    "        if load_weight:\n",
    "            k_init = tf.constant_initializer(self.weight_data[name + '_W'])\n",
    "            b_init = tf.constant_initializer(self.weight_data[name + '_b'])\n",
    "        else:\n",
    "            k_init = tf.initializers.VarianceScaling(scale)\n",
    "            b_init = tf.initializers.zeros()\n",
    "        \n",
    "        dense = tf.keras.layers.Dense(hidden_dim, activation=activation, kernel_initializer=k_init, \n",
    "                                      bias_initializer=b_init, trainable=trainable)\n",
    "        \n",
    "#         if activation is not None:\n",
    "#             return activation(dense)\n",
    "        \n",
    "        return dense\n",
    "    "
   ]
  },
  {
   "cell_type": "code",
   "execution_count": 11,
   "metadata": {},
   "outputs": [
    {
     "name": "stdout",
     "output_type": "stream",
     "text": [
      "/device:GPU:0\n",
      "(64, 224, 224, 64)\n",
      "(64, 224, 224, 64)\n",
      "(64, 112, 112, 64)\n",
      "(64, 112, 112, 128)\n",
      "(64, 112, 112, 128)\n",
      "(64, 56, 56, 128)\n",
      "(64, 56, 56, 256)\n",
      "(64, 56, 56, 256)\n",
      "(64, 28, 28, 256)\n",
      "(64, 28, 28, 512)\n",
      "(64, 28, 28, 512)\n",
      "(64, 28, 28, 512)\n",
      "(64, 14, 14, 512)\n",
      "(64, 14, 14, 512)\n",
      "(64, 14, 14, 512)\n",
      "(64, 14, 14, 512)\n",
      "(64, 7, 7, 512)\n",
      "(64, 25088)\n",
      "(64, 1024)\n",
      "(64, 1024)\n",
      "(64, 2)\n",
      "tf.Tensor(\n",
      "[[0.09121391 0.07541449]\n",
      " [0.09121391 0.07541449]\n",
      " [0.09121391 0.07541449]\n",
      " [0.09121391 0.07541449]\n",
      " [0.09121391 0.07541449]\n",
      " [0.09121391 0.07541449]\n",
      " [0.09121391 0.07541449]\n",
      " [0.09121391 0.07541449]\n",
      " [0.09121391 0.07541449]\n",
      " [0.09121391 0.07541449]\n",
      " [0.09121391 0.07541449]\n",
      " [0.09121391 0.07541449]\n",
      " [0.09121391 0.07541449]\n",
      " [0.09121391 0.07541449]\n",
      " [0.09121391 0.07541449]\n",
      " [0.09121391 0.07541449]\n",
      " [0.09121391 0.07541449]\n",
      " [0.09121391 0.07541449]\n",
      " [0.09121391 0.07541449]\n",
      " [0.09121391 0.07541449]\n",
      " [0.09121391 0.07541449]\n",
      " [0.09121391 0.07541449]\n",
      " [0.09121391 0.07541449]\n",
      " [0.09121391 0.07541449]\n",
      " [0.09121391 0.07541449]\n",
      " [0.09121391 0.07541449]\n",
      " [0.09121391 0.07541449]\n",
      " [0.09121391 0.07541449]\n",
      " [0.09121391 0.07541449]\n",
      " [0.09121391 0.07541449]\n",
      " [0.09121391 0.07541449]\n",
      " [0.09121391 0.07541449]\n",
      " [0.09121391 0.07541449]\n",
      " [0.09121391 0.07541449]\n",
      " [0.09121391 0.07541449]\n",
      " [0.09121391 0.07541449]\n",
      " [0.09121391 0.07541449]\n",
      " [0.09121391 0.07541449]\n",
      " [0.09121391 0.07541449]\n",
      " [0.09121391 0.07541449]\n",
      " [0.09121391 0.07541449]\n",
      " [0.09121391 0.07541449]\n",
      " [0.09121391 0.07541449]\n",
      " [0.09121391 0.07541449]\n",
      " [0.09121391 0.07541449]\n",
      " [0.09121391 0.07541449]\n",
      " [0.09121391 0.07541449]\n",
      " [0.09121391 0.07541449]\n",
      " [0.09121391 0.07541449]\n",
      " [0.09121391 0.07541449]\n",
      " [0.09121391 0.07541449]\n",
      " [0.09121391 0.07541449]\n",
      " [0.09121391 0.07541449]\n",
      " [0.09121391 0.07541449]\n",
      " [0.09121391 0.07541449]\n",
      " [0.09121391 0.07541449]\n",
      " [0.09121391 0.07541449]\n",
      " [0.09121391 0.07541449]\n",
      " [0.09121391 0.07541449]\n",
      " [0.09121391 0.07541449]\n",
      " [0.09121391 0.07541449]\n",
      " [0.09121391 0.07541449]\n",
      " [0.09121391 0.07541449]\n",
      " [0.09121391 0.07541449]], shape=(64, 2), dtype=float32)\n"
     ]
    }
   ],
   "source": [
    "def test_vgg2016():\n",
    "    model = VGG16('vgg16_weights.npz', 2)\n",
    "    print(device)\n",
    "    with tf.device(device):\n",
    "        x = tf.zeros((64, 224, 224, 3))\n",
    "        scores = model(x)\n",
    "        print(scores.shape)\n",
    "\n",
    "test_vgg2016()"
   ]
  }
 ],
 "metadata": {
  "kernelspec": {
   "display_name": "Python 3",
   "language": "python",
   "name": "python3"
  },
  "language_info": {
   "codemirror_mode": {
    "name": "ipython",
    "version": 3
   },
   "file_extension": ".py",
   "mimetype": "text/x-python",
   "name": "python",
   "nbconvert_exporter": "python",
   "pygments_lexer": "ipython3",
   "version": "3.7.2"
  }
 },
 "nbformat": 4,
 "nbformat_minor": 2
}
