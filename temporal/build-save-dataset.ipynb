{
 "cells": [
  {
   "cell_type": "markdown",
   "metadata": {},
   "source": [
    "# Preprocessing and Building the Dataset\n",
    "This script normalizes the data and builds a tensorflow record."
   ]
  },
  {
   "cell_type": "code",
   "execution_count": 10,
   "metadata": {},
   "outputs": [
    {
     "name": "stdout",
     "output_type": "stream",
     "text": [
      "Executing Eagerly? True\n"
     ]
    }
   ],
   "source": [
    "from PIL import Image\n",
    "import numpy as np\n",
    "import tensorflow as tf\n",
    "import pathlib\n",
    "import matplotlib.pyplot as plt\n",
    "import re\n",
    "\n",
    "AUTOTUNE = tf.data.experimental.AUTOTUNE\n",
    "print(\"Executing Eagerly?\", tf.executing_eagerly())"
   ]
  },
  {
   "cell_type": "code",
   "execution_count": 11,
   "metadata": {},
   "outputs": [],
   "source": [
    "tfrecords_fh = 'rope_depth_3d_%s.tfrecords'\n",
    "depth_fh = '/scr2/varun/projs/data_intersection/%04d_depth.png'\n",
    "position_fh = '/scr2/varun/projs/data_intersection/%04d.txt'\n",
    "intersect_fh = '/scr2/varun/projs/data_intersection/%04d_intersect.txt'\n",
    "\n",
    "data_dir = '/scr2/varun/projs/data_intersection/'\n",
    "data_root = pathlib.Path(data_dir)\n",
    "\n",
    "size = 10000\n",
    "\n",
    "depth = [None] * size\n",
    "position = [None] * size\n",
    "intersect = [None] * size\n",
    "\n",
    "for item in data_root.iterdir():\n",
    "    handle = str(item)\n",
    "    if \"mod\" not in handle:\n",
    "        idx = int(handle.split(\"/\")[-1][:4])\n",
    "        if \"depth\" in handle:\n",
    "            depth[idx] = handle\n",
    "        elif \"intersect.txt\" in handle:\n",
    "            intersect[idx] = handle\n",
    "        elif \".txt\" in handle:\n",
    "            position[idx] = handle"
   ]
  },
  {
   "cell_type": "code",
   "execution_count": 12,
   "metadata": {},
   "outputs": [],
   "source": [
    "def preprocess_image(image):\n",
    "    image = tf.image.decode_png(image, channels=3)\n",
    "    image = tf.cast(image, tf.float32)\n",
    "#     image = tf.image.resize(img_tensor, [224, 224])   # this would be if i wanted to resize\n",
    "    image /= 255.0\n",
    "    return image\n",
    "\n",
    "def load_and_preprocess(path, path2, path3):\n",
    "    image = tf.io.read_file(path)\n",
    "    return preprocess_image(image), path2, path3"
   ]
  },
  {
   "cell_type": "markdown",
   "metadata": {},
   "source": [
    "<br/>\n",
    "Just playing around with the data. Getting a feel for what the depth and numpy arrays are like."
   ]
  },
  {
   "cell_type": "code",
   "execution_count": 13,
   "metadata": {},
   "outputs": [
    {
     "name": "stdout",
     "output_type": "stream",
     "text": [
      "Min Value: 102\n",
      "Max Value: 110\n"
     ]
    },
    {
     "data": {
      "image/png": "[encoded data removed]",
      "text/plain": [
       "<Figure size 432x288 with 1 Axes>"
      ]
     },
     "metadata": {
      "needs_background": "light"
     },
     "output_type": "display_data"
    }
   ],
   "source": [
    "sample_num = 254\n",
    "\n",
    "img_raw = tf.io.read_file(depth[sample_num])\n",
    "img_tensor = tf.image.decode_png(img_raw, channels=3)\n",
    "# img_tensor = tf.image.resize(img_tensor, [224, 224])  # This would be if i wanted to resize\n",
    "\n",
    "print(\"Min Value:\", img_tensor.numpy().min())\n",
    "print(\"Max Value:\", img_tensor.numpy().max())\n",
    "\n",
    "img_tensor = tf.cast(img_tensor, tf.float32)\n",
    "img_tensor /= 255.0\n",
    "\n",
    "plt.imshow(img_tensor)\n",
    "plt.grid(False)"
   ]
  },
  {
   "cell_type": "code",
   "execution_count": 14,
   "metadata": {},
   "outputs": [],
   "source": [
    "pos_raw = tf.io.read_file(position[sample_num])\n",
    "pos_raw = re.split(' |\\n', pos_raw.numpy().decode(\"utf-8\"))\n",
    "pos_raw = pos_raw[:-1]\n",
    "pos_raw = [float(pos) for pos in pos_raw]\n",
    "pos_tensor = tf.convert_to_tensor(pos_raw, tf.float32)\n",
    "pos_tensor = tf.reshape(pos_tensor, [int(len(pos_raw)/3), 3])\n",
    "pos_tensor = tf.transpose(pos_tensor[:, :2])       # choosing to get rid of the height.\n",
    "\n",
    "intersect_np = np.loadtxt(intersect[sample_num])\n",
    "intersect_tensor = tf.convert_to_tensor(intersect_np.flatten(), tf.float32)\n",
    "\n",
    "if pos_tensor[0, 0] > pos_tensor[0, -1]:\n",
    "    print(\"i flipped\")\n",
    "    pos_tensor = pos_tensor[:, ::-1]\n",
    "    intersect_tensor = intersect_tensor[::-1]"
   ]
  },
  {
   "cell_type": "markdown",
   "metadata": {},
   "source": [
    "### Building the Dataset Object\n",
    "\n",
    "Make sure to first compute the position dataset then the intersection dataset. We need to track if we flipped the position dataset. Any change should be reflected in the intersection dataset."
   ]
  },
  {
   "cell_type": "code",
   "execution_count": 31,
   "metadata": {},
   "outputs": [],
   "source": [
    "def _bytes_feature(value):\n",
    "    return tf.train.Feature(bytes_list=tf.train.BytesList(value=[value]))\n",
    "\n",
    "def _int64_feature(value):\n",
    "    return tf.train.Feature(int64_list=tf.train.Int64List(value=[value]))\n",
    "\n",
    "def _intList_feature(value):\n",
    "    return tf.train.Feature(int64_list=tf.train.Int64List(value=value))\n",
    "\n",
    "def _floatList_feature(value):\n",
    "    return tf.train.Feature(float_list=tf.train.FloatList(value=value))\n",
    "\n",
    "def generate_example(depth_path, position_path, intersect_path):\n",
    "    depth_img = Image.open(depth_path)\n",
    "    depth_img = depth_img.resize((224, 224), resample=Image.LANCZOS)    # upscale to input into VGG\n",
    "    depth_img = np.array(depth_img)[:, :, :3]                           # removes alpha channel\n",
    "    \n",
    "    pos_arr = np.loadtxt(position_path)\n",
    "    pos_arr = pos_arr[:, :2].T.astype(np.float32)\n",
    "    \n",
    "    inter_arr = np.loadtxt(intersect_path)\n",
    "    inter_arr = inter_arr.flatten().astype(np.int64)\n",
    "    \n",
    "    if pos_arr[0, 0] > pos_arr[0, -1]:\n",
    "        pos_arr = pos_arr[:, ::-1]\n",
    "        inter_arr = inter_arr[::-1]\n",
    "        print(\"flipped for:\", position_path, intersect_path)\n",
    "    \n",
    "    record = tf.train.Example(features=tf.train.Features(feature={\n",
    "        'height' : _int64_feature(depth_img.shape[0]),\n",
    "        'width' : _int64_feature(depth_img.shape[1]),\n",
    "        'image_raw' : _bytes_feature(depth_img.tostring()),\n",
    "        'position' : _floatList_feature(pos_arr.flatten().tolist()),\n",
    "        'intersect' : _intList_feature(inter_arr.tolist())\n",
    "    }))\n",
    "    \n",
    "    return record"
   ]
  },
  {
   "cell_type": "code",
   "execution_count": 32,
   "metadata": {},
   "outputs": [],
   "source": [
    "record_file = 'assets/non-temporal-3d.tfrec'\n",
    "\n",
    "with tf.io.TFRecordWriter(record_file) as writer:\n",
    "    for dep, pos, inter in zip(depth, position, intersect):\n",
    "        tf_example = generate_example(dep, pos, inter)\n",
    "        writer.write(tf_example.SerializeToString())"
   ]
  }
 ],
 "metadata": {
  "kernelspec": {
   "display_name": "Python 3",
   "language": "python",
   "name": "python3"
  },
  "language_info": {
   "codemirror_mode": {
    "name": "ipython",
    "version": 3
   },
   "file_extension": ".py",
   "mimetype": "text/x-python",
   "name": "python",
   "nbconvert_exporter": "python",
   "pygments_lexer": "ipython3",
   "version": "3.7.2"
  }
 },
 "nbformat": 4,
 "nbformat_minor": 2
}
